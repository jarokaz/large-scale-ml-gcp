{
 "cells": [
  {
   "cell_type": "code",
   "execution_count": 9,
   "metadata": {},
   "outputs": [],
   "source": [
    "from pynvml import smi"
   ]
  },
  {
   "cell_type": "code",
   "execution_count": 10,
   "metadata": {},
   "outputs": [],
   "source": [
    "nvsmi = smi.nvidia_smi.getInstance()"
   ]
  },
  {
   "cell_type": "code",
   "execution_count": 11,
   "metadata": {},
   "outputs": [
    {
     "data": {
      "text/plain": [
       "<pynvml.smi.nvidia_smi at 0x7f17a446ae90>"
      ]
     },
     "execution_count": 11,
     "metadata": {},
     "output_type": "execute_result"
    }
   ],
   "source": [
    "nvsmi"
   ]
  },
  {
   "cell_type": "code",
   "execution_count": 12,
   "metadata": {},
   "outputs": [],
   "source": [
    "result = nvsmi.DeviceQuery('memory.free, memory.total')"
   ]
  },
  {
   "cell_type": "code",
   "execution_count": 13,
   "metadata": {},
   "outputs": [
    {
     "data": {
      "text/plain": [
       "dict"
      ]
     },
     "execution_count": 13,
     "metadata": {},
     "output_type": "execute_result"
    }
   ],
   "source": [
    "type(result)\n"
   ]
  },
  {
   "cell_type": "code",
   "execution_count": 15,
   "metadata": {},
   "outputs": [
    {
     "data": {
      "text/plain": [
       "{'gpu': [{'utilization': {'gpu_util': 0, 'memory_util': 0, 'unit': '%'}},\n",
       "  {'utilization': {'gpu_util': 0, 'memory_util': 0, 'unit': '%'}}]}"
      ]
     },
     "execution_count": 15,
     "metadata": {},
     "output_type": "execute_result"
    }
   ],
   "source": [
    "nvsmi.DeviceQuery([smi.NVSMI_UTILIZATION_GPU, smi.NVSMI_UTILIZATION_MEM] )"
   ]
  },
  {
   "cell_type": "code",
   "execution_count": null,
   "metadata": {},
   "outputs": [],
   "source": []
  },
  {
   "cell_type": "code",
   "execution_count": null,
   "metadata": {},
   "outputs": [],
   "source": [
    "def report_gpu_metric(value, type, instance_id, zone, project_id):\n",
    "    series = monitoring_v3.types.TimeSeries()\n",
    "    series.metric.type = 'custom.googleapis.com/{type}'.format(type=type)\n",
    "    series.resource.type = 'gce_instance'\n",
    "    series.resource.labels['instance_id'] = instance_id\n",
    "    series.resource.labels['zone'] = zone\n",
    "    series.resource.labels['project_id'] = project_id\n",
    "    point = series.points.add()\n",
    "    point.value.int64_value = value\n",
    "    now = time.time()\n",
    "    point.interval.end_time.seconds = int(now)\n",
    "    point.interval.end_time.nanos = int(\n",
    "        (now - point.interval.end_time.seconds) * 10**9)\n",
    "    client.create_time_series(project_name, [series])"
   ]
  },
  {
   "cell_type": "code",
   "execution_count": null,
   "metadata": {},
   "outputs": [],
   "source": []
  },
  {
   "cell_type": "code",
   "execution_count": 16,
   "metadata": {},
   "outputs": [],
   "source": [
    "from google.cloud import monitoring_v3\n",
    "from google.cloud.monitoring_v3.query import Query\n",
    "import datetime"
   ]
  },
  {
   "cell_type": "code",
   "execution_count": 65,
   "metadata": {},
   "outputs": [],
   "source": [
    "client = monitoring_v3.MetricServiceClient()\n",
    "project_name = f'projects/jk-mlops-dev'\n",
    "filter = 'metric.type = starts_with(\"custom.googleapis.com/opencensus\")'\n"
   ]
  },
  {
   "cell_type": "code",
   "execution_count": 86,
   "metadata": {},
   "outputs": [],
   "source": [
    "for descriptor in client.list_metric_descriptors(name=project_name, filter_=filter):\n",
    "    print(f'Descriptor: {descriptor.name}')\n",
    "    print(descriptor)"
   ]
  },
  {
   "cell_type": "code",
   "execution_count": 85,
   "metadata": {},
   "outputs": [],
   "source": [
    "for descriptor in client.list_metric_descriptors(name=project_name, filter_=filter):\n",
    "    print(f'Deleting: {descriptor.name}')\n",
    "    client.delete_metric_descriptor(name=descriptor.name)"
   ]
  },
  {
   "cell_type": "code",
   "execution_count": 87,
   "metadata": {},
   "outputs": [],
   "source": [
    "project_id = 'jk-mlops-dev'\n",
    "metric_type = 'custom.googleapis.com/opencensus/gce/gpu/utilization_distribution'"
   ]
  },
  {
   "cell_type": "code",
   "execution_count": 88,
   "metadata": {},
   "outputs": [],
   "source": [
    "START_TIME = datetime.datetime.fromisoformat('2021-01-22T04:00:00-00:00')\n",
    "END_TIME = datetime.datetime.fromisoformat('2021-01-22T05:00:00-00:00')"
   ]
  },
  {
   "cell_type": "code",
   "execution_count": 91,
   "metadata": {},
   "outputs": [],
   "source": [
    "query = Query(client, project_id, metric_type=metric_type)\n",
    "query = query.select_interval(END_TIME, START_TIME)\n",
    "#query = query.select_resources(instance_id='1297153725150009955')\n",
    "#query = query.select_metrics(opencensus_task='py-13989@jk-test')"
   ]
  },
  {
   "cell_type": "code",
   "execution_count": 94,
   "metadata": {},
   "outputs": [
    {
     "data": {
      "text/html": [
       "<div>\n",
       "<style scoped>\n",
       "    .dataframe tbody tr th:only-of-type {\n",
       "        vertical-align: middle;\n",
       "    }\n",
       "\n",
       "    .dataframe tbody tr th {\n",
       "        vertical-align: top;\n",
       "    }\n",
       "\n",
       "    .dataframe thead tr th {\n",
       "        text-align: left;\n",
       "    }\n",
       "</style>\n",
       "<table border=\"1\" class=\"dataframe\">\n",
       "  <thead>\n",
       "    <tr>\n",
       "      <th>resource_type</th>\n",
       "      <th colspan=\"2\" halign=\"left\">gce_instance</th>\n",
       "    </tr>\n",
       "    <tr>\n",
       "      <th>project_id</th>\n",
       "      <th colspan=\"2\" halign=\"left\">jk-mlops-dev</th>\n",
       "    </tr>\n",
       "    <tr>\n",
       "      <th>zone</th>\n",
       "      <th colspan=\"2\" halign=\"left\">us-west1-b</th>\n",
       "    </tr>\n",
       "    <tr>\n",
       "      <th>instance_id</th>\n",
       "      <th colspan=\"2\" halign=\"left\">5382047594078986292</th>\n",
       "    </tr>\n",
       "    <tr>\n",
       "      <th>device</th>\n",
       "      <th>0</th>\n",
       "      <th>1</th>\n",
       "    </tr>\n",
       "  </thead>\n",
       "  <tbody>\n",
       "    <tr>\n",
       "      <th>2021-01-22 04:02:11.137948</th>\n",
       "      <td>count: 6\\nbucket_options {\\n  explicit_buckets...</td>\n",
       "      <td>count: 6\\nbucket_options {\\n  explicit_buckets...</td>\n",
       "    </tr>\n",
       "    <tr>\n",
       "      <th>2021-01-22 04:02:41.138088</th>\n",
       "      <td>count: 12\\nbucket_options {\\n  explicit_bucket...</td>\n",
       "      <td>count: 12\\nbucket_options {\\n  explicit_bucket...</td>\n",
       "    </tr>\n",
       "    <tr>\n",
       "      <th>2021-01-22 04:03:11.138221</th>\n",
       "      <td>count: 18\\nbucket_options {\\n  explicit_bucket...</td>\n",
       "      <td>count: 18\\nbucket_options {\\n  explicit_bucket...</td>\n",
       "    </tr>\n",
       "    <tr>\n",
       "      <th>2021-01-22 04:03:41.138345</th>\n",
       "      <td>count: 24\\nbucket_options {\\n  explicit_bucket...</td>\n",
       "      <td>count: 24\\nbucket_options {\\n  explicit_bucket...</td>\n",
       "    </tr>\n",
       "    <tr>\n",
       "      <th>2021-01-22 04:04:11.138576</th>\n",
       "      <td>count: 30\\nbucket_options {\\n  explicit_bucket...</td>\n",
       "      <td>count: 30\\nbucket_options {\\n  explicit_bucket...</td>\n",
       "    </tr>\n",
       "    <tr>\n",
       "      <th>2021-01-22 04:04:41.138740</th>\n",
       "      <td>count: 36\\nbucket_options {\\n  explicit_bucket...</td>\n",
       "      <td>count: 36\\nbucket_options {\\n  explicit_bucket...</td>\n",
       "    </tr>\n",
       "    <tr>\n",
       "      <th>2021-01-22 04:05:11.138878</th>\n",
       "      <td>count: 42\\nbucket_options {\\n  explicit_bucket...</td>\n",
       "      <td>count: 42\\nbucket_options {\\n  explicit_bucket...</td>\n",
       "    </tr>\n",
       "  </tbody>\n",
       "</table>\n",
       "</div>"
      ],
      "text/plain": [
       "resource_type                                                    gce_instance  \\\n",
       "project_id                                                       jk-mlops-dev   \n",
       "zone                                                               us-west1-b   \n",
       "instance_id                                               5382047594078986292   \n",
       "device                                                                      0   \n",
       "2021-01-22 04:02:11.137948  count: 6\\nbucket_options {\\n  explicit_buckets...   \n",
       "2021-01-22 04:02:41.138088  count: 12\\nbucket_options {\\n  explicit_bucket...   \n",
       "2021-01-22 04:03:11.138221  count: 18\\nbucket_options {\\n  explicit_bucket...   \n",
       "2021-01-22 04:03:41.138345  count: 24\\nbucket_options {\\n  explicit_bucket...   \n",
       "2021-01-22 04:04:11.138576  count: 30\\nbucket_options {\\n  explicit_bucket...   \n",
       "2021-01-22 04:04:41.138740  count: 36\\nbucket_options {\\n  explicit_bucket...   \n",
       "2021-01-22 04:05:11.138878  count: 42\\nbucket_options {\\n  explicit_bucket...   \n",
       "\n",
       "resource_type                                                                  \n",
       "project_id                                                                     \n",
       "zone                                                                           \n",
       "instance_id                                                                    \n",
       "device                                                                      1  \n",
       "2021-01-22 04:02:11.137948  count: 6\\nbucket_options {\\n  explicit_buckets...  \n",
       "2021-01-22 04:02:41.138088  count: 12\\nbucket_options {\\n  explicit_bucket...  \n",
       "2021-01-22 04:03:11.138221  count: 18\\nbucket_options {\\n  explicit_bucket...  \n",
       "2021-01-22 04:03:41.138345  count: 24\\nbucket_options {\\n  explicit_bucket...  \n",
       "2021-01-22 04:04:11.138576  count: 30\\nbucket_options {\\n  explicit_bucket...  \n",
       "2021-01-22 04:04:41.138740  count: 36\\nbucket_options {\\n  explicit_bucket...  \n",
       "2021-01-22 04:05:11.138878  count: 42\\nbucket_options {\\n  explicit_bucket...  "
      ]
     },
     "execution_count": 94,
     "metadata": {},
     "output_type": "execute_result"
    }
   ],
   "source": [
    "df = query.as_dataframe()\n",
    "df"
   ]
  },
  {
   "cell_type": "code",
   "execution_count": null,
   "metadata": {},
   "outputs": [],
   "source": []
  }
 ],
 "metadata": {
  "environment": {
   "name": "tf2-gpu.2-4.m61",
   "type": "gcloud",
   "uri": "gcr.io/deeplearning-platform-release/tf2-gpu.2-4:m61"
  },
  "kernelspec": {
   "display_name": "Python 3",
   "language": "python",
   "name": "python3"
  },
  "language_info": {
   "codemirror_mode": {
    "name": "ipython",
    "version": 3
   },
   "file_extension": ".py",
   "mimetype": "text/x-python",
   "name": "python",
   "nbconvert_exporter": "python",
   "pygments_lexer": "ipython3",
   "version": "3.7.9"
  }
 },
 "nbformat": 4,
 "nbformat_minor": 4
}

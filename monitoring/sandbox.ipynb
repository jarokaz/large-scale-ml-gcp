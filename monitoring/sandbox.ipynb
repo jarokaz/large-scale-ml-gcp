{
 "cells": [
  {
   "cell_type": "code",
   "execution_count": 17,
   "metadata": {},
   "outputs": [],
   "source": [
    "from pynvml import smi"
   ]
  },
  {
   "cell_type": "code",
   "execution_count": 18,
   "metadata": {},
   "outputs": [],
   "source": [
    "nvsmi = smi.nvidia_smi.getInstance()"
   ]
  },
  {
   "cell_type": "code",
   "execution_count": 19,
   "metadata": {},
   "outputs": [
    {
     "data": {
      "text/plain": [
       "<pynvml.smi.nvidia_smi at 0x7f4f89e89910>"
      ]
     },
     "execution_count": 19,
     "metadata": {},
     "output_type": "execute_result"
    }
   ],
   "source": [
    "nvsmi"
   ]
  },
  {
   "cell_type": "code",
   "execution_count": 20,
   "metadata": {},
   "outputs": [],
   "source": [
    "result = nvsmi.DeviceQuery('memory.free, memory.total')"
   ]
  },
  {
   "cell_type": "code",
   "execution_count": 21,
   "metadata": {},
   "outputs": [
    {
     "data": {
      "text/plain": [
       "dict"
      ]
     },
     "execution_count": 21,
     "metadata": {},
     "output_type": "execute_result"
    }
   ],
   "source": [
    "type(result)\n"
   ]
  },
  {
   "cell_type": "code",
   "execution_count": 24,
   "metadata": {},
   "outputs": [
    {
     "data": {
      "text/plain": [
       "{'gpu': [{'utilization': {'gpu_util': 0, 'unit': '%'}},\n",
       "  {'utilization': {'gpu_util': 0, 'unit': '%'}}]}"
      ]
     },
     "execution_count": 24,
     "metadata": {},
     "output_type": "execute_result"
    }
   ],
   "source": [
    "nvsmi.DeviceQuery([smi.NVSMI_UTILIZATION_GPU] )"
   ]
  },
  {
   "cell_type": "code",
   "execution_count": null,
   "metadata": {},
   "outputs": [],
   "source": []
  },
  {
   "cell_type": "code",
   "execution_count": null,
   "metadata": {},
   "outputs": [],
   "source": []
  },
  {
   "cell_type": "code",
   "execution_count": null,
   "metadata": {},
   "outputs": [],
   "source": []
  },
  {
   "cell_type": "code",
   "execution_count": 4,
   "metadata": {},
   "outputs": [],
   "source": [
    "from google.cloud import monitoring_v3\n",
    "from google.cloud.monitoring_v3.query import Query\n",
    "import datetime"
   ]
  },
  {
   "cell_type": "code",
   "execution_count": 2,
   "metadata": {},
   "outputs": [],
   "source": [
    "client = monitoring_v3.MetricServiceClient()\n",
    "project_name = f'projects/jk-mlops-dev'\n",
    "filter = 'metric.type = starts_with(\"custom.googleapis.com/opencensus\")'\n"
   ]
  },
  {
   "cell_type": "code",
   "execution_count": 3,
   "metadata": {},
   "outputs": [
    {
     "name": "stdout",
     "output_type": "stream",
     "text": [
      "Descriptor: projects/jk-mlops-dev/metricDescriptors/custom.googleapis.com/opencensus/task_latency_distribution\n"
     ]
    }
   ],
   "source": [
    "for descriptor in client.list_metric_descriptors(name=project_name, filter_=filter):\n",
    "    print(f'Descriptor: {descriptor.name}')"
   ]
  },
  {
   "cell_type": "code",
   "execution_count": null,
   "metadata": {},
   "outputs": [],
   "source": [
    "for descriptor in client.list_metric_descriptors(name=project_name, filter_=filter):\n",
    "    print(f'Deleting: {descriptor.name}')\n",
    "    client.delete_metric_descriptor(name=descriptor.name)"
   ]
  },
  {
   "cell_type": "code",
   "execution_count": 5,
   "metadata": {},
   "outputs": [],
   "source": [
    "project_id = 'jk-mlops-dev'\n",
    "metric_type = 'custom.googleapis.com/opencensus/task_latency_distribution'"
   ]
  },
  {
   "cell_type": "code",
   "execution_count": 6,
   "metadata": {},
   "outputs": [],
   "source": [
    "START_TIME = datetime.datetime.fromisoformat('2021-01-22T01:30:00-00:00')\n",
    "END_TIME = datetime.datetime.fromisoformat('2021-01-22T04:00:00-00:00')"
   ]
  },
  {
   "cell_type": "code",
   "execution_count": 7,
   "metadata": {},
   "outputs": [],
   "source": [
    "query = Query(client, project_id, metric_type=metric_type)\n",
    "query = query.select_interval(END_TIME, START_TIME)\n",
    "query = query.select_resources(instance_id='1297153725150009955')\n",
    "#query = query.select_metrics(opencensus_task='py-13989@jk-test')"
   ]
  },
  {
   "cell_type": "code",
   "execution_count": 8,
   "metadata": {},
   "outputs": [
    {
     "data": {
      "text/html": [
       "<div>\n",
       "<style scoped>\n",
       "    .dataframe tbody tr th:only-of-type {\n",
       "        vertical-align: middle;\n",
       "    }\n",
       "\n",
       "    .dataframe tbody tr th {\n",
       "        vertical-align: top;\n",
       "    }\n",
       "\n",
       "    .dataframe thead tr th {\n",
       "        text-align: left;\n",
       "    }\n",
       "</style>\n",
       "<table border=\"1\" class=\"dataframe\">\n",
       "  <thead>\n",
       "    <tr>\n",
       "      <th>resource_type</th>\n",
       "      <th colspan=\"2\" halign=\"left\">gce_instance</th>\n",
       "    </tr>\n",
       "    <tr>\n",
       "      <th>project_id</th>\n",
       "      <th colspan=\"2\" halign=\"left\">jk-mlops-dev</th>\n",
       "    </tr>\n",
       "    <tr>\n",
       "      <th>zone</th>\n",
       "      <th colspan=\"2\" halign=\"left\">us-west1-b</th>\n",
       "    </tr>\n",
       "    <tr>\n",
       "      <th>instance_id</th>\n",
       "      <th colspan=\"2\" halign=\"left\">1297153725150009955</th>\n",
       "    </tr>\n",
       "    <tr>\n",
       "      <th>device</th>\n",
       "      <th>0</th>\n",
       "      <th>1</th>\n",
       "    </tr>\n",
       "    <tr>\n",
       "      <th>opencensus_task</th>\n",
       "      <th>py-24570@jk-test</th>\n",
       "      <th>py-24570@jk-test</th>\n",
       "    </tr>\n",
       "  </thead>\n",
       "  <tbody>\n",
       "    <tr>\n",
       "      <th>2021-01-22 01:31:54.786566</th>\n",
       "      <td>count: 6\\nmean: 1810.150155305434\\nsum_of_squa...</td>\n",
       "      <td>count: 6\\nmean: 3096.363161849217\\nsum_of_squa...</td>\n",
       "    </tr>\n",
       "    <tr>\n",
       "      <th>2021-01-22 01:32:54.786767</th>\n",
       "      <td>count: 12\\nmean: 2060.743239064237\\nsum_of_squ...</td>\n",
       "      <td>count: 12\\nmean: 3168.541334745299\\nsum_of_squ...</td>\n",
       "    </tr>\n",
       "    <tr>\n",
       "      <th>2021-01-22 01:33:54.786966</th>\n",
       "      <td>count: 18\\nmean: 2188.305845057473\\nsum_of_squ...</td>\n",
       "      <td>count: 18\\nmean: 3131.603338932825\\nsum_of_squ...</td>\n",
       "    </tr>\n",
       "    <tr>\n",
       "      <th>2021-01-22 01:34:54.787179</th>\n",
       "      <td>count: 24\\nmean: 2233.4570331496598\\nsum_of_sq...</td>\n",
       "      <td>count: 24\\nmean: 3058.4793889627294\\nsum_of_sq...</td>\n",
       "    </tr>\n",
       "    <tr>\n",
       "      <th>2021-01-22 01:35:54.787363</th>\n",
       "      <td>count: 30\\nmean: 2308.9854664627833\\nsum_of_sq...</td>\n",
       "      <td>count: 30\\nmean: 2829.1175172861213\\nsum_of_sq...</td>\n",
       "    </tr>\n",
       "    <tr>\n",
       "      <th>2021-01-22 01:36:54.787601</th>\n",
       "      <td>count: 36\\nmean: 2216.5358004165028\\nsum_of_sq...</td>\n",
       "      <td>count: 36\\nmean: 2935.945742803842\\nsum_of_squ...</td>\n",
       "    </tr>\n",
       "    <tr>\n",
       "      <th>2021-01-22 01:37:54.787873</th>\n",
       "      <td>count: 42\\nmean: 2438.3682209344547\\nsum_of_sq...</td>\n",
       "      <td>count: 42\\nmean: 2906.9860377550685\\nsum_of_sq...</td>\n",
       "    </tr>\n",
       "    <tr>\n",
       "      <th>2021-01-22 01:38:54.788041</th>\n",
       "      <td>count: 48\\nmean: 2497.9759247549464\\nsum_of_sq...</td>\n",
       "      <td>count: 48\\nmean: 2834.762422757233\\nsum_of_squ...</td>\n",
       "    </tr>\n",
       "    <tr>\n",
       "      <th>2021-01-22 01:39:54.788286</th>\n",
       "      <td>count: 54\\nmean: 2498.6827841037216\\nsum_of_sq...</td>\n",
       "      <td>count: 54\\nmean: 2907.21878286835\\nsum_of_squa...</td>\n",
       "    </tr>\n",
       "    <tr>\n",
       "      <th>2021-01-22 01:40:54.788610</th>\n",
       "      <td>count: 60\\nmean: 2560.8438674944396\\nsum_of_sq...</td>\n",
       "      <td>count: 60\\nmean: 2829.6359711098135\\nsum_of_sq...</td>\n",
       "    </tr>\n",
       "    <tr>\n",
       "      <th>2021-01-22 01:41:54.788794</th>\n",
       "      <td>count: 66\\nmean: 2625.939278311537\\nsum_of_squ...</td>\n",
       "      <td>count: 66\\nmean: 2864.6139932849565\\nsum_of_sq...</td>\n",
       "    </tr>\n",
       "    <tr>\n",
       "      <th>2021-01-22 01:42:54.789124</th>\n",
       "      <td>count: 72\\nmean: 2629.56696957357\\nsum_of_squa...</td>\n",
       "      <td>count: 72\\nmean: 2897.6031808058083\\nsum_of_sq...</td>\n",
       "    </tr>\n",
       "    <tr>\n",
       "      <th>2021-01-22 01:43:54.789371</th>\n",
       "      <td>count: 78\\nmean: 2649.8765070586933\\nsum_of_sq...</td>\n",
       "      <td>count: 78\\nmean: 2942.122868992335\\nsum_of_squ...</td>\n",
       "    </tr>\n",
       "    <tr>\n",
       "      <th>2021-01-22 01:44:54.789624</th>\n",
       "      <td>count: 84\\nmean: 2604.0717790521844\\nsum_of_sq...</td>\n",
       "      <td>count: 84\\nmean: 2931.8188014822927\\nsum_of_sq...</td>\n",
       "    </tr>\n",
       "  </tbody>\n",
       "</table>\n",
       "</div>"
      ],
      "text/plain": [
       "resource_type                                                    gce_instance  \\\n",
       "project_id                                                       jk-mlops-dev   \n",
       "zone                                                               us-west1-b   \n",
       "instance_id                                               1297153725150009955   \n",
       "device                                                                      0   \n",
       "opencensus_task                                              py-24570@jk-test   \n",
       "2021-01-22 01:31:54.786566  count: 6\\nmean: 1810.150155305434\\nsum_of_squa...   \n",
       "2021-01-22 01:32:54.786767  count: 12\\nmean: 2060.743239064237\\nsum_of_squ...   \n",
       "2021-01-22 01:33:54.786966  count: 18\\nmean: 2188.305845057473\\nsum_of_squ...   \n",
       "2021-01-22 01:34:54.787179  count: 24\\nmean: 2233.4570331496598\\nsum_of_sq...   \n",
       "2021-01-22 01:35:54.787363  count: 30\\nmean: 2308.9854664627833\\nsum_of_sq...   \n",
       "2021-01-22 01:36:54.787601  count: 36\\nmean: 2216.5358004165028\\nsum_of_sq...   \n",
       "2021-01-22 01:37:54.787873  count: 42\\nmean: 2438.3682209344547\\nsum_of_sq...   \n",
       "2021-01-22 01:38:54.788041  count: 48\\nmean: 2497.9759247549464\\nsum_of_sq...   \n",
       "2021-01-22 01:39:54.788286  count: 54\\nmean: 2498.6827841037216\\nsum_of_sq...   \n",
       "2021-01-22 01:40:54.788610  count: 60\\nmean: 2560.8438674944396\\nsum_of_sq...   \n",
       "2021-01-22 01:41:54.788794  count: 66\\nmean: 2625.939278311537\\nsum_of_squ...   \n",
       "2021-01-22 01:42:54.789124  count: 72\\nmean: 2629.56696957357\\nsum_of_squa...   \n",
       "2021-01-22 01:43:54.789371  count: 78\\nmean: 2649.8765070586933\\nsum_of_sq...   \n",
       "2021-01-22 01:44:54.789624  count: 84\\nmean: 2604.0717790521844\\nsum_of_sq...   \n",
       "\n",
       "resource_type                                                                  \n",
       "project_id                                                                     \n",
       "zone                                                                           \n",
       "instance_id                                                                    \n",
       "device                                                                      1  \n",
       "opencensus_task                                              py-24570@jk-test  \n",
       "2021-01-22 01:31:54.786566  count: 6\\nmean: 3096.363161849217\\nsum_of_squa...  \n",
       "2021-01-22 01:32:54.786767  count: 12\\nmean: 3168.541334745299\\nsum_of_squ...  \n",
       "2021-01-22 01:33:54.786966  count: 18\\nmean: 3131.603338932825\\nsum_of_squ...  \n",
       "2021-01-22 01:34:54.787179  count: 24\\nmean: 3058.4793889627294\\nsum_of_sq...  \n",
       "2021-01-22 01:35:54.787363  count: 30\\nmean: 2829.1175172861213\\nsum_of_sq...  \n",
       "2021-01-22 01:36:54.787601  count: 36\\nmean: 2935.945742803842\\nsum_of_squ...  \n",
       "2021-01-22 01:37:54.787873  count: 42\\nmean: 2906.9860377550685\\nsum_of_sq...  \n",
       "2021-01-22 01:38:54.788041  count: 48\\nmean: 2834.762422757233\\nsum_of_squ...  \n",
       "2021-01-22 01:39:54.788286  count: 54\\nmean: 2907.21878286835\\nsum_of_squa...  \n",
       "2021-01-22 01:40:54.788610  count: 60\\nmean: 2829.6359711098135\\nsum_of_sq...  \n",
       "2021-01-22 01:41:54.788794  count: 66\\nmean: 2864.6139932849565\\nsum_of_sq...  \n",
       "2021-01-22 01:42:54.789124  count: 72\\nmean: 2897.6031808058083\\nsum_of_sq...  \n",
       "2021-01-22 01:43:54.789371  count: 78\\nmean: 2942.122868992335\\nsum_of_squ...  \n",
       "2021-01-22 01:44:54.789624  count: 84\\nmean: 2931.8188014822927\\nsum_of_sq...  "
      ]
     },
     "execution_count": 8,
     "metadata": {},
     "output_type": "execute_result"
    }
   ],
   "source": [
    "df = query.as_dataframe()\n",
    "df"
   ]
  },
  {
   "cell_type": "code",
   "execution_count": null,
   "metadata": {},
   "outputs": [],
   "source": []
  }
 ],
 "metadata": {
  "environment": {
   "name": "tf2-gpu.2-4.m61",
   "type": "gcloud",
   "uri": "gcr.io/deeplearning-platform-release/tf2-gpu.2-4:m61"
  },
  "kernelspec": {
   "display_name": "Python 3",
   "language": "python",
   "name": "python3"
  },
  "language_info": {
   "codemirror_mode": {
    "name": "ipython",
    "version": 3
   },
   "file_extension": ".py",
   "mimetype": "text/x-python",
   "name": "python",
   "nbconvert_exporter": "python",
   "pygments_lexer": "ipython3",
   "version": "3.7.9"
  }
 },
 "nbformat": 4,
 "nbformat_minor": 4
}

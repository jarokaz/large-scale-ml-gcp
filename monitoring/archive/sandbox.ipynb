{
 "cells": [
  {
   "cell_type": "code",
   "execution_count": 1,
   "metadata": {},
   "outputs": [],
   "source": [
    "from google.cloud import monitoring_v3\n",
    "from google.cloud.monitoring_v3.query import Query\n",
    "import datetime\n",
    "import time"
   ]
  },
  {
   "cell_type": "code",
   "execution_count": 2,
   "metadata": {},
   "outputs": [],
   "source": [
    "client = monitoring_v3.MetricServiceClient()\n",
    "project_name = f'projects/jk-mlops-dev'\n",
    "filter = 'metric.type = starts_with(\"custom.googleapis.com/gce/gpu\")'\n"
   ]
  },
  {
   "cell_type": "code",
   "execution_count": 3,
   "metadata": {},
   "outputs": [
    {
     "output_type": "stream",
     "name": "stdout",
     "text": [
      "Descriptor: projects/jk-mlops-dev/metricDescriptors/custom.googleapis.com/gce/gpu/memory_utilization\nname: \"projects/jk-mlops-dev/metricDescriptors/custom.googleapis.com/gce/gpu/memory_utilization\"\nmetric_kind: GAUGE\nvalue_type: INT64\ndescription: \"GPU memory utilization\"\ntype: \"custom.googleapis.com/gce/gpu/memory_utilization\"\n\nDescriptor: projects/jk-mlops-dev/metricDescriptors/custom.googleapis.com/gce/gpu/utilization\nname: \"projects/jk-mlops-dev/metricDescriptors/custom.googleapis.com/gce/gpu/utilization\"\nmetric_kind: GAUGE\nvalue_type: INT64\ndescription: \"GPU utilization\"\ntype: \"custom.googleapis.com/gce/gpu/utilization\"\n\n"
     ]
    }
   ],
   "source": [
    "for descriptor in client.list_metric_descriptors(name=project_name, filter_=filter):\n",
    "    print(f'Descriptor: {descriptor.name}')\n",
    "    print(descriptor)"
   ]
  },
  {
   "cell_type": "code",
   "execution_count": 37,
   "metadata": {},
   "outputs": [],
   "source": [
    "def report_gpu_metric(value, seconds, nanos, type, instance_id, zone, project_id):\n",
    "    series = monitoring_v3.types.TimeSeries()\n",
    "    series.metric.type = 'custom.googleapis.com/{type}'.format(type=type)\n",
    "    series.resource.type = 'gce_instance'\n",
    "    series.resource.labels['instance_id'] = instance_id\n",
    "    series.resource.labels['zone'] = zone\n",
    "    series.resource.labels['project_id'] = project_id\n",
    "\n",
    "    point = series.points.add()\n",
    "    point.value.int64_value = value\n",
    "    point.interval.end_time.seconds = seconds\n",
    "    point.interval.end_time.nanos = nanos\n",
    "    \n",
    "    client.create_time_series(project_name, [series])"
   ]
  },
  {
   "cell_type": "code",
   "execution_count": 38,
   "metadata": {},
   "outputs": [],
   "source": [
    "metric_type = 'gce/gpu/utilization'\n",
    "instance_id = '284365999706661199'\n",
    "zone = 'us-west1-b'\n",
    "project_id = 'jk-mlops-dev'"
   ]
  },
  {
   "cell_type": "code",
   "execution_count": 51,
   "metadata": {},
   "outputs": [
    {
     "output_type": "stream",
     "name": "stdout",
     "text": [
      "wrote metric\n"
     ]
    },
    {
     "output_type": "error",
     "ename": "InvalidArgument",
     "evalue": "400 One or more TimeSeries could not be written: One or more points were written more frequently than the maximum sampling period configured for the metric.: timeSeries[0]",
     "traceback": [
      "\u001b[0;31m---------------------------------------------------------------------------\u001b[0m",
      "\u001b[0;31m_InactiveRpcError\u001b[0m                         Traceback (most recent call last)",
      "\u001b[0;32m/opt/conda/lib/python3.7/site-packages/google/api_core/grpc_helpers.py\u001b[0m in \u001b[0;36merror_remapped_callable\u001b[0;34m(*args, **kwargs)\u001b[0m\n\u001b[1;32m     56\u001b[0m         \u001b[0;32mtry\u001b[0m\u001b[0;34m:\u001b[0m\u001b[0;34m\u001b[0m\u001b[0;34m\u001b[0m\u001b[0m\n\u001b[0;32m---> 57\u001b[0;31m             \u001b[0;32mreturn\u001b[0m \u001b[0mcallable_\u001b[0m\u001b[0;34m(\u001b[0m\u001b[0;34m*\u001b[0m\u001b[0margs\u001b[0m\u001b[0;34m,\u001b[0m \u001b[0;34m**\u001b[0m\u001b[0mkwargs\u001b[0m\u001b[0;34m)\u001b[0m\u001b[0;34m\u001b[0m\u001b[0;34m\u001b[0m\u001b[0m\n\u001b[0m\u001b[1;32m     58\u001b[0m         \u001b[0;32mexcept\u001b[0m \u001b[0mgrpc\u001b[0m\u001b[0;34m.\u001b[0m\u001b[0mRpcError\u001b[0m \u001b[0;32mas\u001b[0m \u001b[0mexc\u001b[0m\u001b[0;34m:\u001b[0m\u001b[0;34m\u001b[0m\u001b[0;34m\u001b[0m\u001b[0m\n",
      "\u001b[0;32m/opt/conda/lib/python3.7/site-packages/grpc/_channel.py\u001b[0m in \u001b[0;36m__call__\u001b[0;34m(self, request, timeout, metadata, credentials, wait_for_ready, compression)\u001b[0m\n\u001b[1;32m    922\u001b[0m                                       wait_for_ready, compression)\n\u001b[0;32m--> 923\u001b[0;31m         \u001b[0;32mreturn\u001b[0m \u001b[0m_end_unary_response_blocking\u001b[0m\u001b[0;34m(\u001b[0m\u001b[0mstate\u001b[0m\u001b[0;34m,\u001b[0m \u001b[0mcall\u001b[0m\u001b[0;34m,\u001b[0m \u001b[0;32mFalse\u001b[0m\u001b[0;34m,\u001b[0m \u001b[0;32mNone\u001b[0m\u001b[0;34m)\u001b[0m\u001b[0;34m\u001b[0m\u001b[0;34m\u001b[0m\u001b[0m\n\u001b[0m\u001b[1;32m    924\u001b[0m \u001b[0;34m\u001b[0m\u001b[0m\n",
      "\u001b[0;32m/opt/conda/lib/python3.7/site-packages/grpc/_channel.py\u001b[0m in \u001b[0;36m_end_unary_response_blocking\u001b[0;34m(state, call, with_call, deadline)\u001b[0m\n\u001b[1;32m    825\u001b[0m     \u001b[0;32melse\u001b[0m\u001b[0;34m:\u001b[0m\u001b[0;34m\u001b[0m\u001b[0;34m\u001b[0m\u001b[0m\n\u001b[0;32m--> 826\u001b[0;31m         \u001b[0;32mraise\u001b[0m \u001b[0m_InactiveRpcError\u001b[0m\u001b[0;34m(\u001b[0m\u001b[0mstate\u001b[0m\u001b[0;34m)\u001b[0m\u001b[0;34m\u001b[0m\u001b[0;34m\u001b[0m\u001b[0m\n\u001b[0m\u001b[1;32m    827\u001b[0m \u001b[0;34m\u001b[0m\u001b[0m\n",
      "\u001b[0;31m_InactiveRpcError\u001b[0m: <_InactiveRpcError of RPC that terminated with:\n\tstatus = StatusCode.INVALID_ARGUMENT\n\tdetails = \"One or more TimeSeries could not be written: One or more points were written more frequently than the maximum sampling period configured for the metric.: timeSeries[0]\"\n\tdebug_error_string = \"{\"created\":\"@1615936877.927911508\",\"description\":\"Error received from peer ipv4:74.125.20.95:443\",\"file\":\"src/core/lib/surface/call.cc\",\"file_line\":1062,\"grpc_message\":\"One or more TimeSeries could not be written: One or more points were written more frequently than the maximum sampling period configured for the metric.: timeSeries[0]\",\"grpc_status\":3}\"\n>",
      "\nThe above exception was the direct cause of the following exception:\n",
      "\u001b[0;31mInvalidArgument\u001b[0m                           Traceback (most recent call last)",
      "\u001b[0;32m<ipython-input-51-474c6d78366a>\u001b[0m in \u001b[0;36m<module>\u001b[0;34m\u001b[0m\n\u001b[1;32m     15\u001b[0m                       \u001b[0minstance_id\u001b[0m\u001b[0;34m=\u001b[0m\u001b[0minstance_id\u001b[0m\u001b[0;34m,\u001b[0m\u001b[0;34m\u001b[0m\u001b[0;34m\u001b[0m\u001b[0m\n\u001b[1;32m     16\u001b[0m                       \u001b[0mzone\u001b[0m\u001b[0;34m=\u001b[0m\u001b[0mzone\u001b[0m\u001b[0;34m,\u001b[0m\u001b[0;34m\u001b[0m\u001b[0;34m\u001b[0m\u001b[0m\n\u001b[0;32m---> 17\u001b[0;31m                       project_id=project_id)\n\u001b[0m\u001b[1;32m     18\u001b[0m     \u001b[0mprint\u001b[0m\u001b[0;34m(\u001b[0m\u001b[0;34m'wrote metric'\u001b[0m\u001b[0;34m)\u001b[0m\u001b[0;34m\u001b[0m\u001b[0;34m\u001b[0m\u001b[0m\n\u001b[1;32m     19\u001b[0m     \u001b[0mtime\u001b[0m\u001b[0;34m.\u001b[0m\u001b[0msleep\u001b[0m\u001b[0;34m(\u001b[0m\u001b[0mwait_time\u001b[0m\u001b[0;34m)\u001b[0m\u001b[0;34m\u001b[0m\u001b[0;34m\u001b[0m\u001b[0m\n",
      "\u001b[0;32m<ipython-input-37-0bbe666ac220>\u001b[0m in \u001b[0;36mreport_gpu_metric\u001b[0;34m(value, seconds, nanos, type, instance_id, zone, project_id)\u001b[0m\n\u001b[1;32m     12\u001b[0m     \u001b[0mpoint\u001b[0m\u001b[0;34m.\u001b[0m\u001b[0minterval\u001b[0m\u001b[0;34m.\u001b[0m\u001b[0mend_time\u001b[0m\u001b[0;34m.\u001b[0m\u001b[0mnanos\u001b[0m \u001b[0;34m=\u001b[0m \u001b[0mnanos\u001b[0m\u001b[0;34m\u001b[0m\u001b[0;34m\u001b[0m\u001b[0m\n\u001b[1;32m     13\u001b[0m \u001b[0;34m\u001b[0m\u001b[0m\n\u001b[0;32m---> 14\u001b[0;31m     \u001b[0mclient\u001b[0m\u001b[0;34m.\u001b[0m\u001b[0mcreate_time_series\u001b[0m\u001b[0;34m(\u001b[0m\u001b[0mproject_name\u001b[0m\u001b[0;34m,\u001b[0m \u001b[0;34m[\u001b[0m\u001b[0mseries\u001b[0m\u001b[0;34m]\u001b[0m\u001b[0;34m)\u001b[0m\u001b[0;34m\u001b[0m\u001b[0;34m\u001b[0m\u001b[0m\n\u001b[0m",
      "\u001b[0;32m/opt/conda/lib/python3.7/site-packages/google/cloud/monitoring_v3/gapic/metric_service_client.py\u001b[0m in \u001b[0;36mcreate_time_series\u001b[0;34m(self, name, time_series, retry, timeout, metadata)\u001b[0m\n\u001b[1;32m   1058\u001b[0m \u001b[0;34m\u001b[0m\u001b[0m\n\u001b[1;32m   1059\u001b[0m         self._inner_api_calls[\"create_time_series\"](\n\u001b[0;32m-> 1060\u001b[0;31m             \u001b[0mrequest\u001b[0m\u001b[0;34m,\u001b[0m \u001b[0mretry\u001b[0m\u001b[0;34m=\u001b[0m\u001b[0mretry\u001b[0m\u001b[0;34m,\u001b[0m \u001b[0mtimeout\u001b[0m\u001b[0;34m=\u001b[0m\u001b[0mtimeout\u001b[0m\u001b[0;34m,\u001b[0m \u001b[0mmetadata\u001b[0m\u001b[0;34m=\u001b[0m\u001b[0mmetadata\u001b[0m\u001b[0;34m\u001b[0m\u001b[0;34m\u001b[0m\u001b[0m\n\u001b[0m\u001b[1;32m   1061\u001b[0m         )\n",
      "\u001b[0;32m/opt/conda/lib/python3.7/site-packages/google/api_core/gapic_v1/method.py\u001b[0m in \u001b[0;36m__call__\u001b[0;34m(self, *args, **kwargs)\u001b[0m\n\u001b[1;32m    143\u001b[0m             \u001b[0mkwargs\u001b[0m\u001b[0;34m[\u001b[0m\u001b[0;34m\"metadata\"\u001b[0m\u001b[0;34m]\u001b[0m \u001b[0;34m=\u001b[0m \u001b[0mmetadata\u001b[0m\u001b[0;34m\u001b[0m\u001b[0;34m\u001b[0m\u001b[0m\n\u001b[1;32m    144\u001b[0m \u001b[0;34m\u001b[0m\u001b[0m\n\u001b[0;32m--> 145\u001b[0;31m         \u001b[0;32mreturn\u001b[0m \u001b[0mwrapped_func\u001b[0m\u001b[0;34m(\u001b[0m\u001b[0;34m*\u001b[0m\u001b[0margs\u001b[0m\u001b[0;34m,\u001b[0m \u001b[0;34m**\u001b[0m\u001b[0mkwargs\u001b[0m\u001b[0;34m)\u001b[0m\u001b[0;34m\u001b[0m\u001b[0;34m\u001b[0m\u001b[0m\n\u001b[0m\u001b[1;32m    146\u001b[0m \u001b[0;34m\u001b[0m\u001b[0m\n\u001b[1;32m    147\u001b[0m \u001b[0;34m\u001b[0m\u001b[0m\n",
      "\u001b[0;32m/opt/conda/lib/python3.7/site-packages/google/api_core/retry.py\u001b[0m in \u001b[0;36mretry_wrapped_func\u001b[0;34m(*args, **kwargs)\u001b[0m\n\u001b[1;32m    284\u001b[0m                 \u001b[0msleep_generator\u001b[0m\u001b[0;34m,\u001b[0m\u001b[0;34m\u001b[0m\u001b[0;34m\u001b[0m\u001b[0m\n\u001b[1;32m    285\u001b[0m                 \u001b[0mself\u001b[0m\u001b[0;34m.\u001b[0m\u001b[0m_deadline\u001b[0m\u001b[0;34m,\u001b[0m\u001b[0;34m\u001b[0m\u001b[0;34m\u001b[0m\u001b[0m\n\u001b[0;32m--> 286\u001b[0;31m                 \u001b[0mon_error\u001b[0m\u001b[0;34m=\u001b[0m\u001b[0mon_error\u001b[0m\u001b[0;34m,\u001b[0m\u001b[0;34m\u001b[0m\u001b[0;34m\u001b[0m\u001b[0m\n\u001b[0m\u001b[1;32m    287\u001b[0m             )\n\u001b[1;32m    288\u001b[0m \u001b[0;34m\u001b[0m\u001b[0m\n",
      "\u001b[0;32m/opt/conda/lib/python3.7/site-packages/google/api_core/retry.py\u001b[0m in \u001b[0;36mretry_target\u001b[0;34m(target, predicate, sleep_generator, deadline, on_error)\u001b[0m\n\u001b[1;32m    182\u001b[0m     \u001b[0;32mfor\u001b[0m \u001b[0msleep\u001b[0m \u001b[0;32min\u001b[0m \u001b[0msleep_generator\u001b[0m\u001b[0;34m:\u001b[0m\u001b[0;34m\u001b[0m\u001b[0;34m\u001b[0m\u001b[0m\n\u001b[1;32m    183\u001b[0m         \u001b[0;32mtry\u001b[0m\u001b[0;34m:\u001b[0m\u001b[0;34m\u001b[0m\u001b[0;34m\u001b[0m\u001b[0m\n\u001b[0;32m--> 184\u001b[0;31m             \u001b[0;32mreturn\u001b[0m \u001b[0mtarget\u001b[0m\u001b[0;34m(\u001b[0m\u001b[0;34m)\u001b[0m\u001b[0;34m\u001b[0m\u001b[0;34m\u001b[0m\u001b[0m\n\u001b[0m\u001b[1;32m    185\u001b[0m \u001b[0;34m\u001b[0m\u001b[0m\n\u001b[1;32m    186\u001b[0m         \u001b[0;31m# pylint: disable=broad-except\u001b[0m\u001b[0;34m\u001b[0m\u001b[0;34m\u001b[0m\u001b[0;34m\u001b[0m\u001b[0m\n",
      "\u001b[0;32m/opt/conda/lib/python3.7/site-packages/google/api_core/timeout.py\u001b[0m in \u001b[0;36mfunc_with_timeout\u001b[0;34m(*args, **kwargs)\u001b[0m\n\u001b[1;32m    212\u001b[0m             \u001b[0;34m\"\"\"Wrapped function that adds timeout.\"\"\"\u001b[0m\u001b[0;34m\u001b[0m\u001b[0;34m\u001b[0m\u001b[0m\n\u001b[1;32m    213\u001b[0m             \u001b[0mkwargs\u001b[0m\u001b[0;34m[\u001b[0m\u001b[0;34m\"timeout\"\u001b[0m\u001b[0;34m]\u001b[0m \u001b[0;34m=\u001b[0m \u001b[0mnext\u001b[0m\u001b[0;34m(\u001b[0m\u001b[0mtimeouts\u001b[0m\u001b[0;34m)\u001b[0m\u001b[0;34m\u001b[0m\u001b[0;34m\u001b[0m\u001b[0m\n\u001b[0;32m--> 214\u001b[0;31m             \u001b[0;32mreturn\u001b[0m \u001b[0mfunc\u001b[0m\u001b[0;34m(\u001b[0m\u001b[0;34m*\u001b[0m\u001b[0margs\u001b[0m\u001b[0;34m,\u001b[0m \u001b[0;34m**\u001b[0m\u001b[0mkwargs\u001b[0m\u001b[0;34m)\u001b[0m\u001b[0;34m\u001b[0m\u001b[0;34m\u001b[0m\u001b[0m\n\u001b[0m\u001b[1;32m    215\u001b[0m \u001b[0;34m\u001b[0m\u001b[0m\n\u001b[1;32m    216\u001b[0m         \u001b[0;32mreturn\u001b[0m \u001b[0mfunc_with_timeout\u001b[0m\u001b[0;34m\u001b[0m\u001b[0;34m\u001b[0m\u001b[0m\n",
      "\u001b[0;32m/opt/conda/lib/python3.7/site-packages/google/api_core/grpc_helpers.py\u001b[0m in \u001b[0;36merror_remapped_callable\u001b[0;34m(*args, **kwargs)\u001b[0m\n\u001b[1;32m     57\u001b[0m             \u001b[0;32mreturn\u001b[0m \u001b[0mcallable_\u001b[0m\u001b[0;34m(\u001b[0m\u001b[0;34m*\u001b[0m\u001b[0margs\u001b[0m\u001b[0;34m,\u001b[0m \u001b[0;34m**\u001b[0m\u001b[0mkwargs\u001b[0m\u001b[0;34m)\u001b[0m\u001b[0;34m\u001b[0m\u001b[0;34m\u001b[0m\u001b[0m\n\u001b[1;32m     58\u001b[0m         \u001b[0;32mexcept\u001b[0m \u001b[0mgrpc\u001b[0m\u001b[0;34m.\u001b[0m\u001b[0mRpcError\u001b[0m \u001b[0;32mas\u001b[0m \u001b[0mexc\u001b[0m\u001b[0;34m:\u001b[0m\u001b[0;34m\u001b[0m\u001b[0;34m\u001b[0m\u001b[0m\n\u001b[0;32m---> 59\u001b[0;31m             \u001b[0msix\u001b[0m\u001b[0;34m.\u001b[0m\u001b[0mraise_from\u001b[0m\u001b[0;34m(\u001b[0m\u001b[0mexceptions\u001b[0m\u001b[0;34m.\u001b[0m\u001b[0mfrom_grpc_error\u001b[0m\u001b[0;34m(\u001b[0m\u001b[0mexc\u001b[0m\u001b[0;34m)\u001b[0m\u001b[0;34m,\u001b[0m \u001b[0mexc\u001b[0m\u001b[0;34m)\u001b[0m\u001b[0;34m\u001b[0m\u001b[0;34m\u001b[0m\u001b[0m\n\u001b[0m\u001b[1;32m     60\u001b[0m \u001b[0;34m\u001b[0m\u001b[0m\n\u001b[1;32m     61\u001b[0m     \u001b[0;32mreturn\u001b[0m \u001b[0merror_remapped_callable\u001b[0m\u001b[0;34m\u001b[0m\u001b[0;34m\u001b[0m\u001b[0m\n",
      "\u001b[0;32m/opt/conda/lib/python3.7/site-packages/six.py\u001b[0m in \u001b[0;36mraise_from\u001b[0;34m(value, from_value)\u001b[0m\n",
      "\u001b[0;31mInvalidArgument\u001b[0m: 400 One or more TimeSeries could not be written: One or more points were written more frequently than the maximum sampling period configured for the metric.: timeSeries[0]"
     ]
    }
   ],
   "source": [
    "initial_util = 60\n",
    "wait_time = 8\n",
    "\n",
    "now = time.time() - 60\n",
    "seconds = int(now) \n",
    "nanos = int(\n",
    "        (now - seconds) * 10**9)\n",
    "\n",
    "for i in range(5):\n",
    "    seconds += 5\n",
    "    report_gpu_metric(value=initial_util+i,\n",
    "                      seconds=seconds,\n",
    "                      nanos=nanos,\n",
    "                      type=metric_type,\n",
    "                      instance_id=instance_id,\n",
    "                      zone=zone,\n",
    "                      project_id=project_id)\n",
    "    print('wrote metric')\n",
    "    time.sleep(wait_time)"
   ]
  },
  {
   "cell_type": "code",
   "execution_count": null,
   "metadata": {},
   "outputs": [],
   "source": []
  },
  {
   "cell_type": "code",
   "execution_count": 33,
   "metadata": {},
   "outputs": [],
   "source": [
    "#filter = 'metric.type = \"custom.googleapis.com/gce/gpu/utilization\" AND metric.labels.device = \"0\"'\n",
    "filter = 'metric.type = \"custom.googleapis.com/gce/gpu/utilization\"'\n",
    "\n",
    "now = time.time()\n",
    "seconds = int(now)\n",
    "nanos = int((now - seconds)*10**9)\n",
    "interval = monitoring_v3.types.TimeInterval(\n",
    "        end_time = {\"seconds\": seconds, \"nanos\": nanos},\n",
    "        start_time = {\"seconds\": (seconds - 240), \"nanos\": nanos}\n",
    ")"
   ]
  },
  {
   "cell_type": "code",
   "execution_count": 34,
   "metadata": {},
   "outputs": [],
   "source": [
    "responses = client.list_time_series(\n",
    "        name=project_name,\n",
    "        filter_=filter,\n",
    "        interval=interval,\n",
    "        view=monitoring_v3.types.ListTimeSeriesRequest.TimeSeriesView.FULL\n",
    ")\n",
    "results = list(responses)"
   ]
  },
  {
   "cell_type": "code",
   "execution_count": 35,
   "metadata": {},
   "outputs": [
    {
     "output_type": "stream",
     "name": "stdout",
     "text": [
      "1615935887 int64_value: 64\n\n1615935882 int64_value: 63\n\n1615935877 int64_value: 62\n\n1615935872 int64_value: 61\n\n1615935867 int64_value: 60\n\n1615935857 int64_value: 60\n\n1615935849 int64_value: 60\n\n1615935838 int64_value: 60\n\n1615935807 int64_value: 54\n\n1615935802 int64_value: 53\n\n1615935797 int64_value: 52\n\n1615935792 int64_value: 51\n\n1615935787 int64_value: 50\n\n"
     ]
    }
   ],
   "source": [
    "for point in results[0].points:\n",
    "    print(point.interval.end_time.seconds, point.value)"
   ]
  },
  {
   "cell_type": "code",
   "execution_count": 19,
   "metadata": {},
   "outputs": [
    {
     "output_type": "error",
     "ename": "TypeError",
     "evalue": "'GRPCIterator' object is not subscriptable",
     "traceback": [
      "\u001b[0;31m---------------------------------------------------------------------------\u001b[0m",
      "\u001b[0;31mTypeError\u001b[0m                                 Traceback (most recent call last)",
      "\u001b[0;32m<ipython-input-19-e4d1bf1908ad>\u001b[0m in \u001b[0;36m<module>\u001b[0;34m\u001b[0m\n\u001b[0;32m----> 1\u001b[0;31m \u001b[0;32mfor\u001b[0m \u001b[0mpoint\u001b[0m \u001b[0;32min\u001b[0m \u001b[0mresults\u001b[0m\u001b[0;34m[\u001b[0m\u001b[0;36m0\u001b[0m\u001b[0;34m]\u001b[0m\u001b[0;34m.\u001b[0m\u001b[0mpoints\u001b[0m\u001b[0;34m:\u001b[0m\u001b[0;34m\u001b[0m\u001b[0;34m\u001b[0m\u001b[0m\n\u001b[0m\u001b[1;32m      2\u001b[0m    \u001b[0mprint\u001b[0m\u001b[0;34m(\u001b[0m\u001b[0mpoint\u001b[0m\u001b[0;34m)\u001b[0m\u001b[0;34m\u001b[0m\u001b[0;34m\u001b[0m\u001b[0m\n",
      "\u001b[0;31mTypeError\u001b[0m: 'GRPCIterator' object is not subscriptable"
     ]
    }
   ],
   "source": [
    "for point in results[0].points:\n",
    "   print(point)"
   ]
  },
  {
   "cell_type": "code",
   "execution_count": 9,
   "metadata": {},
   "outputs": [
    {
     "data": {
      "text/plain": [
       "['Aggregation',\n",
       " 'AlertPolicy',\n",
       " 'Any',\n",
       " 'BasicSli',\n",
       " 'BoolValue',\n",
       " 'BytesValue',\n",
       " 'CreateAlertPolicyRequest',\n",
       " 'CreateGroupRequest',\n",
       " 'CreateMetricDescriptorRequest',\n",
       " 'CreateNotificationChannelRequest',\n",
       " 'CreateServiceLevelObjectiveRequest',\n",
       " 'CreateServiceRequest',\n",
       " 'CreateTimeSeriesError',\n",
       " 'CreateTimeSeriesRequest',\n",
       " 'CreateTimeSeriesSummary',\n",
       " 'CreateUptimeCheckConfigRequest',\n",
       " 'DeleteAlertPolicyRequest',\n",
       " 'DeleteGroupRequest',\n",
       " 'DeleteMetricDescriptorRequest',\n",
       " 'DeleteNotificationChannelRequest',\n",
       " 'DeleteServiceLevelObjectiveRequest',\n",
       " 'DeleteServiceRequest',\n",
       " 'DeleteUptimeCheckConfigRequest',\n",
       " 'Distribution',\n",
       " 'DistributionCut',\n",
       " 'DoubleValue',\n",
       " 'DroppedLabels',\n",
       " 'Duration',\n",
       " 'Empty',\n",
       " 'FieldMask',\n",
       " 'FloatValue',\n",
       " 'GetAlertPolicyRequest',\n",
       " 'GetGroupRequest',\n",
       " 'GetMetricDescriptorRequest',\n",
       " 'GetMonitoredResourceDescriptorRequest',\n",
       " 'GetNotificationChannelDescriptorRequest',\n",
       " 'GetNotificationChannelRequest',\n",
       " 'GetNotificationChannelVerificationCodeRequest',\n",
       " 'GetNotificationChannelVerificationCodeResponse',\n",
       " 'GetServiceLevelObjectiveRequest',\n",
       " 'GetServiceRequest',\n",
       " 'GetUptimeCheckConfigRequest',\n",
       " 'Group',\n",
       " 'Int32Value',\n",
       " 'Int64Value',\n",
       " 'InternalChecker',\n",
       " 'LabelDescriptor',\n",
       " 'LabelValue',\n",
       " 'ListAlertPoliciesRequest',\n",
       " 'ListAlertPoliciesResponse',\n",
       " 'ListGroupMembersRequest',\n",
       " 'ListGroupMembersResponse',\n",
       " 'ListGroupsRequest',\n",
       " 'ListGroupsResponse',\n",
       " 'ListMetricDescriptorsRequest',\n",
       " 'ListMetricDescriptorsResponse',\n",
       " 'ListMonitoredResourceDescriptorsRequest',\n",
       " 'ListMonitoredResourceDescriptorsResponse',\n",
       " 'ListNotificationChannelDescriptorsRequest',\n",
       " 'ListNotificationChannelDescriptorsResponse',\n",
       " 'ListNotificationChannelsRequest',\n",
       " 'ListNotificationChannelsResponse',\n",
       " 'ListServiceLevelObjectivesRequest',\n",
       " 'ListServiceLevelObjectivesResponse',\n",
       " 'ListServicesRequest',\n",
       " 'ListServicesResponse',\n",
       " 'ListTimeSeriesRequest',\n",
       " 'ListTimeSeriesResponse',\n",
       " 'ListUptimeCheckConfigsRequest',\n",
       " 'ListUptimeCheckConfigsResponse',\n",
       " 'ListUptimeCheckIpsRequest',\n",
       " 'ListUptimeCheckIpsResponse',\n",
       " 'ListValue',\n",
       " 'Metric',\n",
       " 'MetricDescriptor',\n",
       " 'MonitoredResource',\n",
       " 'MonitoredResourceDescriptor',\n",
       " 'MonitoredResourceMetadata',\n",
       " 'MutationRecord',\n",
       " 'NotificationChannel',\n",
       " 'NotificationChannelDescriptor',\n",
       " 'Point',\n",
       " 'QueryError',\n",
       " 'QueryErrorList',\n",
       " 'QueryTimeSeriesRequest',\n",
       " 'QueryTimeSeriesResponse',\n",
       " 'Range',\n",
       " 'RequestBasedSli',\n",
       " 'SendNotificationChannelVerificationCodeRequest',\n",
       " 'Service',\n",
       " 'ServiceLevelIndicator',\n",
       " 'ServiceLevelObjective',\n",
       " 'SpanContext',\n",
       " 'Status',\n",
       " 'StringValue',\n",
       " 'Struct',\n",
       " 'TextLocator',\n",
       " 'TimeInterval',\n",
       " 'TimeSeries',\n",
       " 'TimeSeriesData',\n",
       " 'TimeSeriesDescriptor',\n",
       " 'TimeSeriesRatio',\n",
       " 'Timestamp',\n",
       " 'TypedValue',\n",
       " 'UInt32Value',\n",
       " 'UInt64Value',\n",
       " 'UpdateAlertPolicyRequest',\n",
       " 'UpdateGroupRequest',\n",
       " 'UpdateNotificationChannelRequest',\n",
       " 'UpdateServiceLevelObjectiveRequest',\n",
       " 'UpdateServiceRequest',\n",
       " 'UpdateUptimeCheckConfigRequest',\n",
       " 'UptimeCheckConfig',\n",
       " 'UptimeCheckIp',\n",
       " 'Value',\n",
       " 'VerifyNotificationChannelRequest',\n",
       " 'WindowsBasedSli',\n",
       " '__all__',\n",
       " '__builtins__',\n",
       " '__cached__',\n",
       " '__doc__',\n",
       " '__file__',\n",
       " '__loader__',\n",
       " '__name__',\n",
       " '__package__',\n",
       " '__spec__',\n",
       " '_local_modules',\n",
       " '_shared_modules',\n",
       " 'absolute_import',\n",
       " 'alert_pb2',\n",
       " 'alert_service_pb2',\n",
       " 'any_pb2',\n",
       " 'api_metric_pb2',\n",
       " 'common_pb2',\n",
       " 'distribution_pb2',\n",
       " 'dropped_labels_pb2',\n",
       " 'duration_pb2',\n",
       " 'empty_pb2',\n",
       " 'field_mask_pb2',\n",
       " 'get_messages',\n",
       " 'group_pb2',\n",
       " 'group_service_pb2',\n",
       " 'label_pb2',\n",
       " 'message',\n",
       " 'metric_service_pb2',\n",
       " 'module',\n",
       " 'monitored_resource_pb2',\n",
       " 'mutation_record_pb2',\n",
       " 'name',\n",
       " 'names',\n",
       " 'notification_pb2',\n",
       " 'notification_service_pb2',\n",
       " 'proto_metric_pb2',\n",
       " 'service_pb2',\n",
       " 'service_service_pb2',\n",
       " 'span_context_pb2',\n",
       " 'status_pb2',\n",
       " 'struct_pb2',\n",
       " 'sys',\n",
       " 'timestamp_pb2',\n",
       " 'uptime_pb2',\n",
       " 'uptime_service_pb2',\n",
       " 'wrappers_pb2']"
      ]
     },
     "execution_count": 9,
     "metadata": {},
     "output_type": "execute_result"
    }
   ],
   "source": [
    "dir(monitoring_v3.types)"
   ]
  },
  {
   "cell_type": "code",
   "execution_count": null,
   "metadata": {},
   "outputs": [],
   "source": []
  },
  {
   "cell_type": "code",
   "execution_count": 85,
   "metadata": {},
   "outputs": [],
   "source": [
    "for descriptor in client.list_metric_descriptors(name=project_name, filter_=filter):\n",
    "    print(f'Deleting: {descriptor.name}')\n",
    "    client.delete_metric_descriptor(name=descriptor.name)"
   ]
  },
  {
   "cell_type": "code",
   "execution_count": 87,
   "metadata": {},
   "outputs": [],
   "source": [
    "project_id = 'jk-mlops-dev'\n",
    "metric_type = 'custom.googleapis.com/opencensus/gce/gpu/utilization_distribution'"
   ]
  },
  {
   "cell_type": "code",
   "execution_count": 88,
   "metadata": {},
   "outputs": [],
   "source": [
    "START_TIME = datetime.datetime.fromisoformat('2021-01-22T04:00:00-00:00')\n",
    "END_TIME = datetime.datetime.fromisoformat('2021-01-22T05:00:00-00:00')"
   ]
  },
  {
   "cell_type": "code",
   "execution_count": 91,
   "metadata": {},
   "outputs": [],
   "source": [
    "query = Query(client, project_id, metric_type=metric_type)\n",
    "query = query.select_interval(END_TIME, START_TIME)\n",
    "#query = query.select_resources(instance_id='1297153725150009955')\n",
    "#query = query.select_metrics(opencensus_task='py-13989@jk-test')"
   ]
  },
  {
   "cell_type": "code",
   "execution_count": 94,
   "metadata": {},
   "outputs": [
    {
     "data": {
      "text/html": [
       "<div>\n",
       "<style scoped>\n",
       "    .dataframe tbody tr th:only-of-type {\n",
       "        vertical-align: middle;\n",
       "    }\n",
       "\n",
       "    .dataframe tbody tr th {\n",
       "        vertical-align: top;\n",
       "    }\n",
       "\n",
       "    .dataframe thead tr th {\n",
       "        text-align: left;\n",
       "    }\n",
       "</style>\n",
       "<table border=\"1\" class=\"dataframe\">\n",
       "  <thead>\n",
       "    <tr>\n",
       "      <th>resource_type</th>\n",
       "      <th colspan=\"2\" halign=\"left\">gce_instance</th>\n",
       "    </tr>\n",
       "    <tr>\n",
       "      <th>project_id</th>\n",
       "      <th colspan=\"2\" halign=\"left\">jk-mlops-dev</th>\n",
       "    </tr>\n",
       "    <tr>\n",
       "      <th>zone</th>\n",
       "      <th colspan=\"2\" halign=\"left\">us-west1-b</th>\n",
       "    </tr>\n",
       "    <tr>\n",
       "      <th>instance_id</th>\n",
       "      <th colspan=\"2\" halign=\"left\">5382047594078986292</th>\n",
       "    </tr>\n",
       "    <tr>\n",
       "      <th>device</th>\n",
       "      <th>0</th>\n",
       "      <th>1</th>\n",
       "    </tr>\n",
       "  </thead>\n",
       "  <tbody>\n",
       "    <tr>\n",
       "      <th>2021-01-22 04:02:11.137948</th>\n",
       "      <td>count: 6\\nbucket_options {\\n  explicit_buckets...</td>\n",
       "      <td>count: 6\\nbucket_options {\\n  explicit_buckets...</td>\n",
       "    </tr>\n",
       "    <tr>\n",
       "      <th>2021-01-22 04:02:41.138088</th>\n",
       "      <td>count: 12\\nbucket_options {\\n  explicit_bucket...</td>\n",
       "      <td>count: 12\\nbucket_options {\\n  explicit_bucket...</td>\n",
       "    </tr>\n",
       "    <tr>\n",
       "      <th>2021-01-22 04:03:11.138221</th>\n",
       "      <td>count: 18\\nbucket_options {\\n  explicit_bucket...</td>\n",
       "      <td>count: 18\\nbucket_options {\\n  explicit_bucket...</td>\n",
       "    </tr>\n",
       "    <tr>\n",
       "      <th>2021-01-22 04:03:41.138345</th>\n",
       "      <td>count: 24\\nbucket_options {\\n  explicit_bucket...</td>\n",
       "      <td>count: 24\\nbucket_options {\\n  explicit_bucket...</td>\n",
       "    </tr>\n",
       "    <tr>\n",
       "      <th>2021-01-22 04:04:11.138576</th>\n",
       "      <td>count: 30\\nbucket_options {\\n  explicit_bucket...</td>\n",
       "      <td>count: 30\\nbucket_options {\\n  explicit_bucket...</td>\n",
       "    </tr>\n",
       "    <tr>\n",
       "      <th>2021-01-22 04:04:41.138740</th>\n",
       "      <td>count: 36\\nbucket_options {\\n  explicit_bucket...</td>\n",
       "      <td>count: 36\\nbucket_options {\\n  explicit_bucket...</td>\n",
       "    </tr>\n",
       "    <tr>\n",
       "      <th>2021-01-22 04:05:11.138878</th>\n",
       "      <td>count: 42\\nbucket_options {\\n  explicit_bucket...</td>\n",
       "      <td>count: 42\\nbucket_options {\\n  explicit_bucket...</td>\n",
       "    </tr>\n",
       "  </tbody>\n",
       "</table>\n",
       "</div>"
      ],
      "text/plain": [
       "resource_type                                                    gce_instance  \\\n",
       "project_id                                                       jk-mlops-dev   \n",
       "zone                                                               us-west1-b   \n",
       "instance_id                                               5382047594078986292   \n",
       "device                                                                      0   \n",
       "2021-01-22 04:02:11.137948  count: 6\\nbucket_options {\\n  explicit_buckets...   \n",
       "2021-01-22 04:02:41.138088  count: 12\\nbucket_options {\\n  explicit_bucket...   \n",
       "2021-01-22 04:03:11.138221  count: 18\\nbucket_options {\\n  explicit_bucket...   \n",
       "2021-01-22 04:03:41.138345  count: 24\\nbucket_options {\\n  explicit_bucket...   \n",
       "2021-01-22 04:04:11.138576  count: 30\\nbucket_options {\\n  explicit_bucket...   \n",
       "2021-01-22 04:04:41.138740  count: 36\\nbucket_options {\\n  explicit_bucket...   \n",
       "2021-01-22 04:05:11.138878  count: 42\\nbucket_options {\\n  explicit_bucket...   \n",
       "\n",
       "resource_type                                                                  \n",
       "project_id                                                                     \n",
       "zone                                                                           \n",
       "instance_id                                                                    \n",
       "device                                                                      1  \n",
       "2021-01-22 04:02:11.137948  count: 6\\nbucket_options {\\n  explicit_buckets...  \n",
       "2021-01-22 04:02:41.138088  count: 12\\nbucket_options {\\n  explicit_bucket...  \n",
       "2021-01-22 04:03:11.138221  count: 18\\nbucket_options {\\n  explicit_bucket...  \n",
       "2021-01-22 04:03:41.138345  count: 24\\nbucket_options {\\n  explicit_bucket...  \n",
       "2021-01-22 04:04:11.138576  count: 30\\nbucket_options {\\n  explicit_bucket...  \n",
       "2021-01-22 04:04:41.138740  count: 36\\nbucket_options {\\n  explicit_bucket...  \n",
       "2021-01-22 04:05:11.138878  count: 42\\nbucket_options {\\n  explicit_bucket...  "
      ]
     },
     "execution_count": 94,
     "metadata": {},
     "output_type": "execute_result"
    }
   ],
   "source": [
    "df = query.as_dataframe()\n",
    "df"
   ]
  },
  {
   "cell_type": "code",
   "execution_count": null,
   "metadata": {},
   "outputs": [],
   "source": []
  }
 ],
 "metadata": {
  "environment": {
   "name": "tf2-2-3-gpu.2-3.m55",
   "type": "gcloud",
   "uri": "gcr.io/deeplearning-platform-release/tf2-2-3-gpu.2-3:m55"
  },
  "kernelspec": {
   "display_name": "Python 3",
   "language": "python",
   "name": "python3"
  },
  "language_info": {
   "codemirror_mode": {
    "name": "ipython",
    "version": 3
   },
   "file_extension": ".py",
   "mimetype": "text/x-python",
   "name": "python",
   "nbconvert_exporter": "python",
   "pygments_lexer": "ipython3",
   "version": "3.7.9-final"
  }
 },
 "nbformat": 4,
 "nbformat_minor": 4
}